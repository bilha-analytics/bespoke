{
 "cells": [
  {
   "cell_type": "code",
   "execution_count": 3,
   "metadata": {},
   "outputs": [
    {
     "data": {
      "text/html": [
       "<ol class=list-inline>\n",
       "\t<li>'SeasonName'</li>\n",
       "\t<li>'RegionName'</li>\n",
       "\t<li>'DistrictName'</li>\n",
       "\t<li>'SectorName'</li>\n",
       "\t<li>'SiteName'</li>\n",
       "\t<li>'GroupName'</li>\n",
       "\t<li>'LastName'</li>\n",
       "\t<li>'FirstName'</li>\n",
       "\t<li>'OAFID'</li>\n",
       "\t<li>'Facilitator'</li>\n",
       "\t<li>'TotalCredit'</li>\n",
       "\t<li>'TotalRepaid'</li>\n",
       "\t<li>'RemainingCredit'</li>\n",
       "\t<li>'X..Repaid'</li>\n",
       "\t<li>'LastRepaymentDate'</li>\n",
       "\t<li>'TotalRepaid_IncludingOverpayments'</li>\n",
       "\t<li>'GlobalClientId'</li>\n",
       "\t<li>'Deceased'</li>\n",
       "</ol>\n"
      ],
      "text/latex": [
       "\\begin{enumerate*}\n",
       "\\item 'SeasonName'\n",
       "\\item 'RegionName'\n",
       "\\item 'DistrictName'\n",
       "\\item 'SectorName'\n",
       "\\item 'SiteName'\n",
       "\\item 'GroupName'\n",
       "\\item 'LastName'\n",
       "\\item 'FirstName'\n",
       "\\item 'OAFID'\n",
       "\\item 'Facilitator'\n",
       "\\item 'TotalCredit'\n",
       "\\item 'TotalRepaid'\n",
       "\\item 'RemainingCredit'\n",
       "\\item 'X..Repaid'\n",
       "\\item 'LastRepaymentDate'\n",
       "\\item 'TotalRepaid\\_IncludingOverpayments'\n",
       "\\item 'GlobalClientId'\n",
       "\\item 'Deceased'\n",
       "\\end{enumerate*}\n"
      ],
      "text/markdown": [
       "1. 'SeasonName'\n",
       "2. 'RegionName'\n",
       "3. 'DistrictName'\n",
       "4. 'SectorName'\n",
       "5. 'SiteName'\n",
       "6. 'GroupName'\n",
       "7. 'LastName'\n",
       "8. 'FirstName'\n",
       "9. 'OAFID'\n",
       "10. 'Facilitator'\n",
       "11. 'TotalCredit'\n",
       "12. 'TotalRepaid'\n",
       "13. 'RemainingCredit'\n",
       "14. 'X..Repaid'\n",
       "15. 'LastRepaymentDate'\n",
       "16. 'TotalRepaid_IncludingOverpayments'\n",
       "17. 'GlobalClientId'\n",
       "18. 'Deceased'\n",
       "\n",
       "\n"
      ],
      "text/plain": [
       " [1] \"SeasonName\"                        \"RegionName\"                       \n",
       " [3] \"DistrictName\"                      \"SectorName\"                       \n",
       " [5] \"SiteName\"                          \"GroupName\"                        \n",
       " [7] \"LastName\"                          \"FirstName\"                        \n",
       " [9] \"OAFID\"                             \"Facilitator\"                      \n",
       "[11] \"TotalCredit\"                       \"TotalRepaid\"                      \n",
       "[13] \"RemainingCredit\"                   \"X..Repaid\"                        \n",
       "[15] \"LastRepaymentDate\"                 \"TotalRepaid_IncludingOverpayments\"\n",
       "[17] \"GlobalClientId\"                    \"Deceased\"                         "
      ]
     },
     "metadata": {},
     "output_type": "display_data"
    }
   ],
   "source": [
    "### import libraries\n",
    "\n",
    "\n",
    "### Load Data Files \n",
    "\n",
    "# data dir\n",
    "data_dir = \"D:/xAppzor/datasets/oaf\"\n",
    "\n",
    "dat_sc_15 = read.csv( paste(data_dir, \"oaf_sc_2015.csv\", sep=\"/\"))\n",
    "\n",
    "names(dat_sc_15)"
   ]
  },
  {
   "cell_type": "code",
   "execution_count": 4,
   "metadata": {},
   "outputs": [
    {
     "data": {
      "text/html": [
       "<table>\n",
       "<thead><tr><th scope=col>SeasonName</th><th scope=col>RegionName</th><th scope=col>DistrictName</th><th scope=col>SectorName</th><th scope=col>SiteName</th><th scope=col>GroupName</th><th scope=col>LastName</th><th scope=col>FirstName</th><th scope=col>OAFID</th><th scope=col>Facilitator</th><th scope=col>TotalCredit</th><th scope=col>TotalRepaid</th><th scope=col>RemainingCredit</th><th scope=col>X..Repaid</th><th scope=col>LastRepaymentDate</th><th scope=col>TotalRepaid_IncludingOverpayments</th><th scope=col>GlobalClientId</th><th scope=col>Deceased</th></tr></thead>\n",
       "<tbody>\n",
       "\t<tr><td>2015, Long Rain                     </td><td>Western Province                    </td><td>Kakamega (South)                    </td><td>Adelide Mukanzi                     </td><td>Lirhembe                            </td><td>Jikaze                              </td><td>Miheso                              </td><td>Johnstone                           </td><td>56739                               </td><td>False                               </td><td>9860                                </td><td>9860                                </td><td>0                                   </td><td>100                                 </td><td>8/3/2015 12:00:00 AM                </td><td>9860                                </td><td>60608205-6fba-4932-a022-511006e668c5</td><td>False                               </td></tr>\n",
       "\t<tr><td>2015, Long Rain                     </td><td>Western Province                    </td><td>Kakamega B (North)                  </td><td>Nelson Mutula Mukungu               </td><td>Emulama                             </td><td>Bidii                               </td><td>James                               </td><td>Elphas                              </td><td>52517                               </td><td>False                               </td><td>5900                                </td><td>5900                                </td><td>0                                   </td><td>100                                 </td><td>7/6/2015 12:00:00 AM                </td><td>5900                                </td><td>b8dbc924-e7f9-49b5-a53d-fa10c32b1634</td><td>False                               </td></tr>\n",
       "\t<tr><td>2015, Long Rain                     </td><td>Western Province                    </td><td>Gem                                 </td><td>Sellah Anyango                      </td><td>Sigomere                            </td><td>Morfarms                            </td><td>Otieno                              </td><td>Carolyne A                          </td><td>46260                               </td><td>False                               </td><td>8520                                </td><td>8520                                </td><td>0                                   </td><td>100                                 </td><td>11/3/2015 12:00:00 AM               </td><td>8520                                </td><td>cf15cdc9-fbc8-42a2-b10f-bf916be9ef26</td><td>False                               </td></tr>\n",
       "\t<tr><td>2015, Long Rain                     </td><td>Western Province                    </td><td>Kakamega B (North)                  </td><td>Donald Ayuku                        </td><td>Itenyi                              </td><td>Amani                               </td><td>Lukanda                             </td><td>Francis                             </td><td>55852                               </td><td>False                               </td><td>5900                                </td><td>5900                                </td><td>0                                   </td><td>100                                 </td><td>7/13/2015 12:00:00 AM               </td><td>5900                                </td><td>1f64af07-f31f-4165-abb8-1173369cb91f</td><td>False                               </td></tr>\n",
       "\t<tr><td>2015, Long Rain                     </td><td>Nyanza                              </td><td>Kabondo                             </td><td>George Odingo                       </td><td>Gari                                </td><td>Nyamuta                             </td><td>Opar                                </td><td>Aloice                              </td><td>35544                               </td><td>False                               </td><td>8400                                </td><td>8400                                </td><td>0                                   </td><td>100                                 </td><td>9/7/2015 12:00:00 AM                </td><td>8400                                </td><td>a86b69a3-5df1-4a6c-b57f-cd55987d9be2</td><td>False                               </td></tr>\n",
       "\t<tr><td>2015, Long Rain                     </td><td>Western Province                    </td><td>Kakamega (South)                    </td><td>Phillip Isalambo                    </td><td>Mugomari                            </td><td>Shikango                            </td><td>Barasa                              </td><td>Christina                           </td><td>45541                               </td><td>False                               </td><td>5900                                </td><td>5900                                </td><td>0                                   </td><td>100                                 </td><td>8/31/2015 12:00:00 AM               </td><td>5900                                </td><td>8db85db5-24c6-49d9-96eb-2afaaf058dc0</td><td>False                               </td></tr>\n",
       "</tbody>\n",
       "</table>\n"
      ],
      "text/latex": [
       "\\begin{tabular}{r|llllllllllllllllll}\n",
       " SeasonName & RegionName & DistrictName & SectorName & SiteName & GroupName & LastName & FirstName & OAFID & Facilitator & TotalCredit & TotalRepaid & RemainingCredit & X..Repaid & LastRepaymentDate & TotalRepaid\\_IncludingOverpayments & GlobalClientId & Deceased\\\\\n",
       "\\hline\n",
       "\t 2015, Long Rain                      & Western Province                     & Kakamega (South)                     & Adelide Mukanzi                      & Lirhembe                             & Jikaze                               & Miheso                               & Johnstone                            & 56739                                & False                                & 9860                                 & 9860                                 & 0                                    & 100                                  & 8/3/2015 12:00:00 AM                 & 9860                                 & 60608205-6fba-4932-a022-511006e668c5 & False                               \\\\\n",
       "\t 2015, Long Rain                      & Western Province                     & Kakamega B (North)                   & Nelson Mutula Mukungu                & Emulama                              & Bidii                                & James                                & Elphas                               & 52517                                & False                                & 5900                                 & 5900                                 & 0                                    & 100                                  & 7/6/2015 12:00:00 AM                 & 5900                                 & b8dbc924-e7f9-49b5-a53d-fa10c32b1634 & False                               \\\\\n",
       "\t 2015, Long Rain                      & Western Province                     & Gem                                  & Sellah Anyango                       & Sigomere                             & Morfarms                             & Otieno                               & Carolyne A                           & 46260                                & False                                & 8520                                 & 8520                                 & 0                                    & 100                                  & 11/3/2015 12:00:00 AM                & 8520                                 & cf15cdc9-fbc8-42a2-b10f-bf916be9ef26 & False                               \\\\\n",
       "\t 2015, Long Rain                      & Western Province                     & Kakamega B (North)                   & Donald Ayuku                         & Itenyi                               & Amani                                & Lukanda                              & Francis                              & 55852                                & False                                & 5900                                 & 5900                                 & 0                                    & 100                                  & 7/13/2015 12:00:00 AM                & 5900                                 & 1f64af07-f31f-4165-abb8-1173369cb91f & False                               \\\\\n",
       "\t 2015, Long Rain                      & Nyanza                               & Kabondo                              & George Odingo                        & Gari                                 & Nyamuta                              & Opar                                 & Aloice                               & 35544                                & False                                & 8400                                 & 8400                                 & 0                                    & 100                                  & 9/7/2015 12:00:00 AM                 & 8400                                 & a86b69a3-5df1-4a6c-b57f-cd55987d9be2 & False                               \\\\\n",
       "\t 2015, Long Rain                      & Western Province                     & Kakamega (South)                     & Phillip Isalambo                     & Mugomari                             & Shikango                             & Barasa                               & Christina                            & 45541                                & False                                & 5900                                 & 5900                                 & 0                                    & 100                                  & 8/31/2015 12:00:00 AM                & 5900                                 & 8db85db5-24c6-49d9-96eb-2afaaf058dc0 & False                               \\\\\n",
       "\\end{tabular}\n"
      ],
      "text/markdown": [
       "\n",
       "SeasonName | RegionName | DistrictName | SectorName | SiteName | GroupName | LastName | FirstName | OAFID | Facilitator | TotalCredit | TotalRepaid | RemainingCredit | X..Repaid | LastRepaymentDate | TotalRepaid_IncludingOverpayments | GlobalClientId | Deceased | \n",
       "|---|---|---|---|---|---|\n",
       "| 2015, Long Rain                      | Western Province                     | Kakamega (South)                     | Adelide Mukanzi                      | Lirhembe                             | Jikaze                               | Miheso                               | Johnstone                            | 56739                                | False                                | 9860                                 | 9860                                 | 0                                    | 100                                  | 8/3/2015 12:00:00 AM                 | 9860                                 | 60608205-6fba-4932-a022-511006e668c5 | False                                | \n",
       "| 2015, Long Rain                      | Western Province                     | Kakamega B (North)                   | Nelson Mutula Mukungu                | Emulama                              | Bidii                                | James                                | Elphas                               | 52517                                | False                                | 5900                                 | 5900                                 | 0                                    | 100                                  | 7/6/2015 12:00:00 AM                 | 5900                                 | b8dbc924-e7f9-49b5-a53d-fa10c32b1634 | False                                | \n",
       "| 2015, Long Rain                      | Western Province                     | Gem                                  | Sellah Anyango                       | Sigomere                             | Morfarms                             | Otieno                               | Carolyne A                           | 46260                                | False                                | 8520                                 | 8520                                 | 0                                    | 100                                  | 11/3/2015 12:00:00 AM                | 8520                                 | cf15cdc9-fbc8-42a2-b10f-bf916be9ef26 | False                                | \n",
       "| 2015, Long Rain                      | Western Province                     | Kakamega B (North)                   | Donald Ayuku                         | Itenyi                               | Amani                                | Lukanda                              | Francis                              | 55852                                | False                                | 5900                                 | 5900                                 | 0                                    | 100                                  | 7/13/2015 12:00:00 AM                | 5900                                 | 1f64af07-f31f-4165-abb8-1173369cb91f | False                                | \n",
       "| 2015, Long Rain                      | Nyanza                               | Kabondo                              | George Odingo                        | Gari                                 | Nyamuta                              | Opar                                 | Aloice                               | 35544                                | False                                | 8400                                 | 8400                                 | 0                                    | 100                                  | 9/7/2015 12:00:00 AM                 | 8400                                 | a86b69a3-5df1-4a6c-b57f-cd55987d9be2 | False                                | \n",
       "| 2015, Long Rain                      | Western Province                     | Kakamega (South)                     | Phillip Isalambo                     | Mugomari                             | Shikango                             | Barasa                               | Christina                            | 45541                                | False                                | 5900                                 | 5900                                 | 0                                    | 100                                  | 8/31/2015 12:00:00 AM                | 5900                                 | 8db85db5-24c6-49d9-96eb-2afaaf058dc0 | False                                | \n",
       "\n",
       "\n"
      ],
      "text/plain": [
       "  SeasonName      RegionName       DistrictName       SectorName           \n",
       "1 2015, Long Rain Western Province Kakamega (South)   Adelide Mukanzi      \n",
       "2 2015, Long Rain Western Province Kakamega B (North) Nelson Mutula Mukungu\n",
       "3 2015, Long Rain Western Province Gem                Sellah Anyango       \n",
       "4 2015, Long Rain Western Province Kakamega B (North) Donald Ayuku         \n",
       "5 2015, Long Rain Nyanza           Kabondo            George Odingo        \n",
       "6 2015, Long Rain Western Province Kakamega (South)   Phillip Isalambo     \n",
       "  SiteName GroupName LastName FirstName  OAFID Facilitator TotalCredit\n",
       "1 Lirhembe Jikaze    Miheso   Johnstone  56739 False       9860       \n",
       "2 Emulama  Bidii     James    Elphas     52517 False       5900       \n",
       "3 Sigomere Morfarms  Otieno   Carolyne A 46260 False       8520       \n",
       "4 Itenyi   Amani     Lukanda  Francis    55852 False       5900       \n",
       "5 Gari     Nyamuta   Opar     Aloice     35544 False       8400       \n",
       "6 Mugomari Shikango  Barasa   Christina  45541 False       5900       \n",
       "  TotalRepaid RemainingCredit X..Repaid LastRepaymentDate    \n",
       "1 9860        0               100       8/3/2015 12:00:00 AM \n",
       "2 5900        0               100       7/6/2015 12:00:00 AM \n",
       "3 8520        0               100       11/3/2015 12:00:00 AM\n",
       "4 5900        0               100       7/13/2015 12:00:00 AM\n",
       "5 8400        0               100       9/7/2015 12:00:00 AM \n",
       "6 5900        0               100       8/31/2015 12:00:00 AM\n",
       "  TotalRepaid_IncludingOverpayments GlobalClientId                      \n",
       "1 9860                              60608205-6fba-4932-a022-511006e668c5\n",
       "2 5900                              b8dbc924-e7f9-49b5-a53d-fa10c32b1634\n",
       "3 8520                              cf15cdc9-fbc8-42a2-b10f-bf916be9ef26\n",
       "4 5900                              1f64af07-f31f-4165-abb8-1173369cb91f\n",
       "5 8400                              a86b69a3-5df1-4a6c-b57f-cd55987d9be2\n",
       "6 5900                              8db85db5-24c6-49d9-96eb-2afaaf058dc0\n",
       "  Deceased\n",
       "1 False   \n",
       "2 False   \n",
       "3 False   \n",
       "4 False   \n",
       "5 False   \n",
       "6 False   "
      ]
     },
     "metadata": {},
     "output_type": "display_data"
    }
   ],
   "source": [
    "head( dat_sc_15)"
   ]
  }
 ],
 "metadata": {
  "kernelspec": {
   "display_name": "R",
   "language": "R",
   "name": "ir"
  },
  "language_info": {
   "codemirror_mode": "r",
   "file_extension": ".r",
   "mimetype": "text/x-r-source",
   "name": "R",
   "pygments_lexer": "r",
   "version": "3.4.1"
  }
 },
 "nbformat": 4,
 "nbformat_minor": 2
}
